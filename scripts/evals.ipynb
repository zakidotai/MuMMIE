{
 "cells": [
  {
   "cell_type": "code",
   "execution_count": 20,
   "id": "5bc481b8-a645-42ec-b355-b1efea1ff4de",
   "metadata": {},
   "outputs": [],
   "source": [
    "import pickle\n",
    "import os\n",
    "import json\n",
    "import pandas as pd\n",
    "from tqdm import tqdm\n",
    "from collections import Counter, defaultdict"
   ]
  },
  {
   "cell_type": "code",
   "execution_count": 3,
   "id": "106817a5-a6a0-42c4-ad47-ca090fa1cf67",
   "metadata": {},
   "outputs": [],
   "source": [
    "output_path = '../data/outputs/qwen-3-235b-a22b-instruct-2507/'"
   ]
  },
  {
   "cell_type": "code",
   "execution_count": null,
   "id": "c6fc898d-2d16-458d-b9d6-32dd15f0b2d0",
   "metadata": {},
   "outputs": [],
   "source": [
    "# 1. map json with excel\n",
    "# 2. "
   ]
  },
  {
   "cell_type": "code",
   "execution_count": 11,
   "id": "54cdec68-e13d-415d-85f4-28ca2e93d1c0",
   "metadata": {},
   "outputs": [],
   "source": [
    "import json\n",
    "\n",
    "with open('../data/outputs/qwen-3-235b-a22b-instruct-2507/CN101033114A.json', 'r') as f:\n",
    "    data = json.load(f)\n"
   ]
  },
  {
   "cell_type": "code",
   "execution_count": 14,
   "id": "3b4f23c7-b496-498b-8bf0-55b4087f3ac3",
   "metadata": {},
   "outputs": [],
   "source": [
    "import ast"
   ]
  },
  {
   "cell_type": "code",
   "execution_count": 36,
   "id": "ed4b3aca-63ab-4669-8f1d-af7b23adeb72",
   "metadata": {},
   "outputs": [],
   "source": [
    "from json_repair import repair_json\n",
    "\n",
    "# good_json_string = repair_json(bad_json_string)"
   ]
  },
  {
   "cell_type": "code",
   "execution_count": 62,
   "id": "57d9ca5e-faee-453f-bbac-6a4a9b0e9365",
   "metadata": {},
   "outputs": [],
   "source": [
    "js = 'CN101033114A.json'\n",
    "with open(f'../data/outputs/qwen-3-235b-a22b-instruct-2507/{js}', 'r') as f:\n",
    "    data = json.load(f)['answer']"
   ]
  },
  {
   "cell_type": "code",
   "execution_count": 63,
   "id": "faeab9cc-32f1-40dc-8c12-4274d68b7fff",
   "metadata": {},
   "outputs": [],
   "source": [
    "column_dict = dict()\n",
    "\n",
    "files = os.listdir('../data/excel/')\n",
    "files.remove('.DS_Store')\n",
    "\n",
    "mapper = dict()\n",
    "ex = js2excel[js]\n",
    "\n",
    "df = pd.read_excel(f'../data/excel/{ex}')\n",
    "columns = df.columns.tolist()\n",
    "idx = df[df[columns[0]] == 'Glass No'].index[-1]\n",
    "\n",
    "idx0 = df[df[columns[0]] == 'Glass No'].index[0]\n",
    "idx1 = df[df[columns[0]] == 'Glass No'].index[-1]\n",
    "\n",
    "for k,v in zip(df.iloc[idx0], df.iloc[idx1]):\n",
    "    k = k.replace(\"\\n\", ' ')\n",
    "    if k in mapper:\n",
    "        mapper[k].append(v)\n",
    "    else:\n",
    "        mapper[k] = [v]\n",
    "dff = df.iloc[idx:,:]\n",
    "dff.columns = df.iloc[idx]\n",
    "dff = dff.iloc[1:,:]\n",
    "column_dict[file] = dff.columns.tolist()"
   ]
  },
  {
   "cell_type": "code",
   "execution_count": 71,
   "id": "5158fae7-c330-4b09-97de-5abaa0416bfe",
   "metadata": {},
   "outputs": [],
   "source": [
    "gold = []\n",
    "for i in range(len(dff)):\n",
    "    gold.append(dff.iloc[i].to_dict())"
   ]
  },
  {
   "cell_type": "code",
   "execution_count": 74,
   "id": "34c9a419-9203-4299-96ee-76555b2a81f3",
   "metadata": {},
   "outputs": [
    {
     "data": {
      "text/plain": [
       "{'Glass No': 415124,\n",
       " 'SiO2': 54.55,\n",
       " 'Al2O3': 14.6,\n",
       " 'B2O3': 26.3,\n",
       " 'TiO2': 1,\n",
       " 'CaO': 1,\n",
       " 'MgO': 2,\n",
       " 'Na2O': 0.1,\n",
       " 'K2O': 0.1,\n",
       " 'F': 0.2,\n",
       " 'V2O5': 0.1,\n",
       " 'CeO2': 0.05,\n",
       " 'α*1E7, K-1 temp.range, °C in 100-400': 27.8,\n",
       " 'T, °C at log(η, P) at 3': 1335,\n",
       " \"ε' f, MHz at 1\": 4.1,\n",
       " 'Tanδ*1E4 f, MHz at 1': 6.6,\n",
       " \"ε'\": 4.1,\n",
       " 'Tanδ*1E4': 6.6}"
      ]
     },
     "execution_count": 74,
     "metadata": {},
     "output_type": "execute_result"
    }
   ],
   "source": [
    "gold[2]"
   ]
  },
  {
   "cell_type": "code",
   "execution_count": 75,
   "id": "c152cee6-956c-4943-81bf-892eaa530b4b",
   "metadata": {},
   "outputs": [
    {
     "data": {
      "text/plain": [
       "[{'SiO2': 54.55,\n",
       "  'Al2O3': 14.6,\n",
       "  'B2O3': 26.3,\n",
       "  'TiO2': 1.0,\n",
       "  'CaO': 1.0,\n",
       "  'MgO': 2.0,\n",
       "  'Na2O': 0.1,\n",
       "  'K2O': 0.1,\n",
       "  'F': 0.2,\n",
       "  'V2O5': 0.1,\n",
       "  'CeO2': 0.05},\n",
       " {'dielectric_constant': [{'value': 4.1,\n",
       "    'unit': '',\n",
       "    'experimental_conditions': 'room temperature, 1MHz'}],\n",
       "  'dielectric_tangent': [{'value': 0.00066,\n",
       "    'unit': '',\n",
       "    'experimental_conditions': 'room temperature, 1MHz'}],\n",
       "  'thermal_expansion': [{'value': 2.78e-06,\n",
       "    'unit': '/℃',\n",
       "    'experimental_conditions': '100-400℃'}],\n",
       "  'viscosity': [{'value': 1335,\n",
       "    'unit': '℃',\n",
       "    'experimental_conditions': '10^3 poise'}]}]"
      ]
     },
     "execution_count": 75,
     "metadata": {},
     "output_type": "execute_result"
    }
   ],
   "source": [
    "ast.literal_eval(data)[0]"
   ]
  },
  {
   "cell_type": "code",
   "execution_count": 52,
   "id": "d09fcfc3-d41c-4bce-b3dd-ae7f6848b040",
   "metadata": {},
   "outputs": [
    {
     "name": "stderr",
     "output_type": "stream",
     "text": [
      "100%|███████████████████████████████████████████████████████████████████████████████████████████████████████████████████████████████████████████████████████████████████████████████| 55/55 [00:00<00:00, 3833.28it/s]\n"
     ]
    }
   ],
   "source": [
    "outputs = []\n",
    "for ff in tqdm(os.listdir(output_path)):\n",
    "    with open(f'../data/outputs/qwen-3-235b-a22b-instruct-2507/{ff}', 'r') as f:\n",
    "        data = json.load(f)['answer']\n",
    "        outputs.append(data)\n",
    "        "
   ]
  },
  {
   "cell_type": "code",
   "execution_count": 58,
   "id": "ad9f435c-e73c-41cd-9a6e-76deb5d7c50c",
   "metadata": {},
   "outputs": [],
   "source": [
    "column_dict = dict()\n",
    "\n",
    "files = os.listdir('../data/excel/')\n",
    "files.remove('.DS_Store')\n",
    "\n",
    "mapper = dict()\n",
    "\n",
    "for file in :\n",
    "    df = pd.read_excel(f'../data/excel/{file}')\n",
    "    columns = df.columns.tolist()\n",
    "    idx = df[df[columns[0]] == 'Glass No'].index[-1]\n",
    "    \n",
    "    idx0 = df[df[columns[0]] == 'Glass No'].index[0]\n",
    "    idx1 = df[df[columns[0]] == 'Glass No'].index[-1]\n",
    "\n",
    "    for k,v in zip(df.iloc[idx0], df.iloc[idx1]):\n",
    "        k = k.replace(\"\\n\", ' ')\n",
    "        if k in mapper:\n",
    "            mapper[k].append(v)\n",
    "        else:\n",
    "            mapper[k] = [v]\n",
    "    dff = df.iloc[idx:,:]\n",
    "    dff.columns = df.iloc[idx]\n",
    "    dff = dff.iloc[1:,:]\n",
    "    column_dict[file] = dff.columns.tolist()"
   ]
  },
  {
   "cell_type": "code",
   "execution_count": 57,
   "id": "c5e483c5-6505-4b3e-b1fe-d8f2814ed833",
   "metadata": {},
   "outputs": [
    {
     "data": {
      "text/plain": [
       "[[{'SiO2': 70.619,\n",
       "   'Al2O3': 6.0,\n",
       "   'Na2O': 17.0,\n",
       "   'CaO': 2.0,\n",
       "   'MgO': 0.01,\n",
       "   'F': 4.0,\n",
       "   'P2O5': 0.1,\n",
       "   'Fe2O3': 0.1,\n",
       "   'SO3': 0.1,\n",
       "   'Co2O3': 0.005,\n",
       "   'CuO': 0.005,\n",
       "   'Cr2O3': 0.001,\n",
       "   'MnO': 0.005,\n",
       "   'NiO': 0.05,\n",
       "   'Se': 0.005},\n",
       "  {'softening_temperature': [{'value': 620,\n",
       "     'unit': '°C',\n",
       "     'experimental_conditions': ''}]}],\n",
       " [{'SiO2': 62.64,\n",
       "   'Al2O3': 3.0,\n",
       "   'Na2O': 15.0,\n",
       "   'CaO': 12.0,\n",
       "   'MgO': 5.0,\n",
       "   'F': 1.0,\n",
       "   'P2O5': 1.0,\n",
       "   'Fe2O3': 0.01,\n",
       "   'SO3': 0.3,\n",
       "   'Co2O3': 0.05},\n",
       "  {'softening_temperature': [{'value': 630,\n",
       "     'unit': '°C',\n",
       "     'experimental_conditions': ''}]}],\n",
       " [{'SiO2': 60.0,\n",
       "   'Al2O3': 7.0,\n",
       "   'Na2O': 10.0,\n",
       "   'CaO': 12.0,\n",
       "   'MgO': 3.55,\n",
       "   'F': 4.0,\n",
       "   'P2O5': 2.0,\n",
       "   'Fe2O3': 0.5,\n",
       "   'SO3': 0.7,\n",
       "   'NiO': 0.25},\n",
       "  {'softening_temperature': [{'value': 650,\n",
       "     'unit': '°C',\n",
       "     'experimental_conditions': ''}]}],\n",
       " [{'SiO2': 65.65,\n",
       "   'Al2O3': 5.0,\n",
       "   'Na2O': 12.0,\n",
       "   'CaO': 6.0,\n",
       "   'MgO': 4.0,\n",
       "   'F': 3.0,\n",
       "   'P2O5': 3.0,\n",
       "   'Fe2O3': 0.1,\n",
       "   'SO3': 1.0,\n",
       "   'CuO': 0.25},\n",
       "  {'softening_temperature': [{'value': 635,\n",
       "     'unit': '°C',\n",
       "     'experimental_conditions': ''}]}],\n",
       " [{'SiO2': 71.0,\n",
       "   'Al2O3': 4.0,\n",
       "   'Na2O': 13.0,\n",
       "   'CaO': 5.35,\n",
       "   'MgO': 3.0,\n",
       "   'F': 0.5,\n",
       "   'P2O5': 2.0,\n",
       "   'Fe2O3': 0.3,\n",
       "   'SO3': 0.1,\n",
       "   'CuO': 0.5,\n",
       "   'Cr2O3': 0.25},\n",
       "  {'softening_temperature': [{'value': 640,\n",
       "     'unit': '°C',\n",
       "     'experimental_conditions': ''}]}],\n",
       " [{'SiO2': 69.2,\n",
       "   'Al2O3': 3.0,\n",
       "   'Na2O': 17.0,\n",
       "   'CaO': 4.0,\n",
       "   'MgO': 2.0,\n",
       "   'F': 1.0,\n",
       "   'P2O5': 1.0,\n",
       "   'Fe2O3': 2.0,\n",
       "   'SO3': 0.3,\n",
       "   'MnO': 0.5},\n",
       "  {'softening_temperature': [{'value': 620,\n",
       "     'unit': '°C',\n",
       "     'experimental_conditions': ''}]}],\n",
       " [{'SiO2': 65.0,\n",
       "   'Al2O3': 5.0,\n",
       "   'Na2O': 11.19,\n",
       "   'CaO': 11.0,\n",
       "   'MgO': 5.0,\n",
       "   'F': 2.0,\n",
       "   'P2O5': 0.5,\n",
       "   'Fe2O3': 0.01,\n",
       "   'SO3': 0.2},\n",
       "  {'softening_temperature': [{'value': 650,\n",
       "     'unit': '°C',\n",
       "     'experimental_conditions': ''}]}],\n",
       " [{'SiO2': 64.09,\n",
       "   'Al2O3': 6.0,\n",
       "   'Na2O': 14.45,\n",
       "   'CaO': 8.0,\n",
       "   'MgO': 2.5,\n",
       "   'F': 3.0,\n",
       "   'P2O5': 0.5,\n",
       "   'Fe2O3': 0.6,\n",
       "   'SO3': 0.2,\n",
       "   'Co2O3': 0.1,\n",
       "   'MnO': 0.05,\n",
       "   'NiO': 0.5,\n",
       "   'Se': 0.01},\n",
       "  {'softening_temperature': [{'value': 640,\n",
       "     'unit': '°C',\n",
       "     'experimental_conditions': ''}]}],\n",
       " [{'SiO2': 55.0,\n",
       "   'Al2O3': 8.0,\n",
       "   'Na2O': 14.0,\n",
       "   'CaO': 12.0,\n",
       "   'MgO': 4.1,\n",
       "   'F': 4.0,\n",
       "   'P2O5': 1.0,\n",
       "   'Fe2O3': 1.3,\n",
       "   'SO3': 0.1,\n",
       "   'Cr2O3': 0.5},\n",
       "  {'softening_temperature': [{'value': 630,\n",
       "     'unit': '°C',\n",
       "     'experimental_conditions': ''}]}],\n",
       " [{'SiO2': 66.8,\n",
       "   'Al2O3': 0.21,\n",
       "   'Na2O': 8.8,\n",
       "   'CaO': 14.5,\n",
       "   'MgO': 0.5,\n",
       "   'F': 0.89,\n",
       "   'P2O5': 0.0,\n",
       "   'Fe2O3': 0.83,\n",
       "   'SO3': 0.03},\n",
       "  {'softening_temperature': [{'value': 935,\n",
       "     'unit': '°C',\n",
       "     'experimental_conditions': ''}]}]]"
      ]
     },
     "execution_count": 57,
     "metadata": {},
     "output_type": "execute_result"
    }
   ],
   "source": [
    "ast.literal_eval(outputs[5])#:7]"
   ]
  },
  {
   "cell_type": "code",
   "execution_count": 24,
   "id": "e0cb49fc-50ab-40b6-812e-a8ed5055ec3c",
   "metadata": {},
   "outputs": [],
   "source": [
    "jsons = os.listdir(output_path)\n",
    "excels = os.listdir('../data/excel/')\n",
    "excels.remove('.DS_Store')"
   ]
  },
  {
   "cell_type": "code",
   "execution_count": 31,
   "id": "aeb4bb9d-ab03-4e34-9326-9b271df5bcd6",
   "metadata": {},
   "outputs": [],
   "source": [
    "js2excel = dict()\n",
    "excel2js = dict()\n",
    "\n",
    "for js, ex in zip(sorted(jsons), sorted(excels)):\n",
    "    js2excel[js] = ex\n",
    "    excel2js[ex] = js"
   ]
  },
  {
   "cell_type": "code",
   "execution_count": 33,
   "id": "d44b0f6f-9301-4a25-abaf-9048a8410a18",
   "metadata": {},
   "outputs": [],
   "source": [
    "js2excel = {\n",
    " 'CN101033114A.json': 'CN101033114 _table-33959.xlsx',\n",
    " 'CN101058477A.json': 'CN101058477_table-35472.xlsx',\n",
    " 'CN101072676A.json': 'CN101072676A_table-30659.xlsx',\n",
    " 'CN101092308B.json': 'CN101092308B_table-35489.xlsx',\n",
    " 'CN1308591A.json': 'CN1308591_table-24104.xlsx',\n",
    " 'CN1326903A.json': 'CN1326903_table-28556.xlsx',\n",
    " 'CN1489965A.json': 'CN1489965_table-37874.xlsx',\n",
    " 'CN1495138A.json': 'CN1495138_table-30623.xlsx',\n",
    " 'CN1522980A.json': 'CN1522980_table-28312.xlsx',\n",
    " 'CN1771211A.json': 'CN1771211_table-28366.xlsx',\n",
    " 'FR_1027316_A.json': 'FR1027316_table-16101.xlsx',\n",
    " 'FR_1172977_A.json': 'FR1172977_table-29832.xlsx',\n",
    " 'FR_1242292_A.json': 'FR1242292_table-37871.xlsx',\n",
    " 'FR_1247560_A.json': 'FR1247560_table-29840.xlsx',\n",
    " 'FR_1388413_A.json': 'FR1388413_table-17489.xlsx',\n",
    " 'FR_1484178_A.json': 'FR1484178_table-30674.xlsx',\n",
    " 'FR_2511360_A1.json': 'FR2511360_table-8590.xlsx',\n",
    " 'FR_2564087_A1.json': 'FR2564087_table-8498.xlsx',\n",
    " 'FR_2650266_A1.json': 'FR2650266_table-4410.xlsx',\n",
    " 'FR_2775476_A1.json': 'FR2775476_table-17437.xlsx',\n",
    " 'JP2013209231A.json': 'JP2013209231_table-41689.xlsx',\n",
    " 'JP2013520387A.json': 'JP2013520387_table-39169.xlsx',\n",
    " 'JP2013520388A.json': 'JP2013520388_table-43286.xlsx',\n",
    " 'JP2014019632A.json': 'JP2014019632_table-41679.xlsx',\n",
    " 'JP2014504250A.json': 'JP2014504250_table-39897.xlsx',\n",
    " 'JP2015013773A.json': 'JP2015013773_table-42776.xlsx',\n",
    " 'JP2015509903A.json': 'JP2015509903_table-43872.xlsx',\n",
    " 'JP5454585B2.json': 'JP5454585_table-40257.xlsx',\n",
    " 'JP5613164B2.json': 'JP5613164_table-40102.xlsx',\n",
    " 'JP5743125B2.json': 'JP5743125_table-43288.xlsx',\n",
    " 'JP5763852B2.json': 'JP5763852_table-44883.xlsx',\n",
    " 'KR20160040680A.json': 'KR20160040680_table-42977.xlsx',\n",
    " 'KR20170007352A.json': 'KR20170007352_table-43529.xlsx',\n",
    " 'KR20170021584A.json': 'KR20170021584_table-43757.xlsx',\n",
    "    'RU2016861C1.json': 'RU2016861_table-4306.xlsx',\n",
    "    'RU2017695C1.json': 'RU2017695_table-4488.xlsx',\n",
    "    'RU2045486C1.json': 'RU2045486_table-15262.xlsx',\n",
    "    'RU2069198C1.json': 'RU2069198_table-15265.xlsx',\n",
    "    'RU2102345C1.json': 'RU2102345_table-2783.xlsx',\n",
    "    'RU_2015120_C1.json':'RU2015120_table-15217.xlsx',\n",
    "    'RU_2016858_C1.json': 'RU2016858_table-4323.xlsx',\n",
    "    'RU_2021219_C1.json': 'RU2021219_table-4489.xlsx',\n",
    "    'RU_2044710_C1.json': 'RU2044710_table-8002.xlsx',\n",
    "    'RU_2383502_C1.json': 'RU2383502_table-37098.xlsx',\n",
    " 'US1304623.json': 'US1304623_table-24764.xlsx',\n",
    " 'US1623301.json': 'US1623301_table-24156.xlsx',\n",
    " 'US20010014424A1.json': 'US20010014424A1_table-33582.xlsx',\n",
    " 'US20030228968A1.json': 'US20030228968A1_table-28530.xlsx',\n",
    " 'US20040214047A1.json': 'US20040214047A1_table-28846.xlsx',\n",
    " 'US20060166804A1.json': 'US20060166804A1_table-33051.xlsx',\n",
    " 'US20090239122A1.json': 'US2009239122A1_table-30659.xlsx',\n",
    " 'US2486812.json':'US2486812_table-16059.xlsx',\n",
    " 'US2920971.json':'US2920971_table-37870.xlsx',     \n",
    "  \n",
    "}\n",
    "\n",
    "excel2js = dict()\n",
    "\n",
    "\n",
    "    \n",
    "    # 'US3640738_table-13146.xlsx', 'US20090286667A1.json': ,"
   ]
  },
  {
   "cell_type": "code",
   "execution_count": null,
   "id": "52c50de0-7e09-4db1-931f-585dc57455b8",
   "metadata": {},
   "outputs": [],
   "source": []
  }
 ],
 "metadata": {
  "kernelspec": {
   "display_name": "Python 3 (ipykernel)",
   "language": "python",
   "name": "python3"
  },
  "language_info": {
   "codemirror_mode": {
    "name": "ipython",
    "version": 3
   },
   "file_extension": ".py",
   "mimetype": "text/x-python",
   "name": "python",
   "nbconvert_exporter": "python",
   "pygments_lexer": "ipython3",
   "version": "3.12.2"
  }
 },
 "nbformat": 4,
 "nbformat_minor": 5
}
