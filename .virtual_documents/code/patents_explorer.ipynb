import pandas as pd
import os


df


file


column_dict = dict()

files = os.listdir('../data/excel/')

removals = ['~$CN1308591_table-24104.xlsx','.DS_Store']
for f in removals:
    files.remove(f)

mapper = dict()

for file in files:
    df = pd.read_excel(f'../data/excel/{file}')
    lang = file[:2]
    columns = df.columns.tolist()
    idx = df[df[columns[0]] == 'Glass No'].index[-1]
    
    idx0 = df[df[columns[0]] == 'Glass No'].index[0]
    idx1 = df[df[columns[0]] == 'Glass No'].index[-1]

    for k,v in zip(df.iloc[idx0], df.iloc[idx1]):
        k = k.replace("\n", ' ')
        if k in mapper:
            mapper[k].append([v,lang])
        else:
            mapper[k] = [[v,lang]]
    dff = df.iloc[idx:,:]
    dff.columns = df.iloc[idx]
    dff = dff.iloc[1:,:]
    column_dict[file] = dff.columns.tolist()


len(mapper.keys())


# α*1E7, K-1： Thermal expansion coefficient temp.range, °C： Temperature range
# H: Microhardness


α*1E7, K-1： Thermal expansion coefficient temp


dfcolum_stats = pd.DataFrame()
dfcolum_stats['col_names'] = mapper.keys()
dfcolum_stats['variations'] = mapper.values()
dfcolum_stats['num_variations'] = dfcolum_stats['variations'].apply(lambda x: len(x))
dfcolum_stats = dfcolum_stats.sort_values(by='num_variations', ascending=False)



# dfcolum_stats[30:50]


# prompt = f"Identify the language of the document and then identify if {x} present in the given document ? The output format should be JSON {'lang': 'str', 'presence':True/False}"



prompt_mapper = {"α*1E7, K-1： Thermal expansion coefficient temp.range, °C： Temperature range":"thermal expansion coefficient at different temperatures",
                "Glass transition temperature": "Glass transition temperature",
                "Density" : "Density",
                "T, °C： Temperature log(η, P)： η: Viscosity" : "Viscosity at given temperature or temperature at given visocity",
                 "E: Young's modulus": "Young's modulus",
                 "Thermal expansion coefficient":"Thermal expansion coefficient",
                 "Refractive index" : "Refractive index",
                 "H: Microhardness" : "Hardness",
                 "Crystallization temperature": "Crystallization temperature",
                 "τ, %： Transmittance λ, nm： Wavelength" : "transmittance at different wavelengths",
                 "Liquidus temperature": "Liquidus temperature"         
        }


for k, v in prompt_mapper.items():
    prompt = "Identify the language of the document and then identify if {variable} present in the given document ? The output format should be JSON {{'lang': 'str', 'presence':True/False}}".format(variable=v)
    print(prompt)


dfcolum_stats.col_names.loc[29]





# {pdf_name}_{prop_lang_identification}.json



# dfcolum_stats.col_names.loc[8] , dfcolum_stats.variations.loc[8]





idx_list = [8, 37, 14, 53, 40, 32, 16, 9, 50, 103, 29]
lang_viz = dict()
for idx in idx_list:
    # print(dfcolum_stats.col_names.loc[idx], set(dfcolum_stats.variations.loc[idx]))
    print(dfcolum_stats.col_names.loc[idx], dfcolum_stats.variations.loc[idx])
    key = dfcolum_stats.col_names.loc[idx]
    values = dfcolum_stats.variations.loc[idx]
    langs = [val[-1] for val in values]
    lang_viz[key] = langs
    
    print('---')


for k, v in mapper.items():
    print(k, 10*'|', len(v), 10*'|', set(v))


flat = []
for k,v in column_dict.items():
    flat.extend(v)


# Is density present in this document? output format {'is_present':True/False,
#                                                    'unit': ''}


# Visualising the column names (composition and property) present in the dataset
pd.Series(flat).value_counts()[:20]


properties = {
    "α*1E7, K-1： Thermal expansion coefficient\ntemp.range, °C： Temperature range": 'coefficient of thermal expansion",
    "Glass transition temperature"}


pd.Series(flat).value_counts()



