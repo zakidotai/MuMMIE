{
 "cells": [
  {
   "cell_type": "code",
   "execution_count": 18,
   "id": "40108d6f-6e3f-4108-85da-b3a390080382",
   "metadata": {},
   "outputs": [],
   "source": [
    "import pandas as pd\n",
    "import os"
   ]
  },
  {
   "cell_type": "code",
   "execution_count": 24,
   "id": "a43f7edd-2dba-418b-9ee7-de029833f69a",
   "metadata": {},
   "outputs": [],
   "source": [
    "column_dict = dict()\n",
    "\n",
    "files = os.listdir('../data/excel/')\n",
    "files.remove('.DS_Store')\n",
    "\n",
    "for file in files:\n",
    "    df = pd.read_excel(f'../data/excel/{file}')\n",
    "    columns = df.columns.tolist()\n",
    "    idx = df[df[columns[0]] == 'Glass No'].index[-1]\n",
    "    dff = df.iloc[idx:,:]\n",
    "    dff.columns = df.iloc[idx]\n",
    "    dff = dff.iloc[1:,:]\n",
    "    column_dict[file] = dff.columns.tolist()"
   ]
  },
  {
   "cell_type": "code",
   "execution_count": 26,
   "id": "0edf3ff9-ea1e-441b-863a-cfc87503fb59",
   "metadata": {},
   "outputs": [],
   "source": [
    "flat = []\n",
    "for k,v in column_dict.items():\n",
    "    flat.extend(v)"
   ]
  },
  {
   "cell_type": "code",
   "execution_count": 32,
   "id": "eb82abc2-09f7-4407-a14c-b1b50c732d79",
   "metadata": {},
   "outputs": [
    {
     "data": {
      "text/plain": [
       "Glass No                34\n",
       "SiO2                    29\n",
       "Al2O3                   28\n",
       "B2O3                    26\n",
       "CaO                     24\n",
       "                        ..\n",
       "Ni2O3                    1\n",
       "MoO3                     1\n",
       "Tanδ*1E4 f, MHz at 1     1\n",
       "K1c, MPa.m1/2            1\n",
       "log(η, P)                1\n",
       "Name: count, Length: 120, dtype: int64"
      ]
     },
     "execution_count": 32,
     "metadata": {},
     "output_type": "execute_result"
    }
   ],
   "source": [
    "# Visualising the column names (composition and property) present in the dataset\n",
    "pd.Series(flat).value_counts()#[20:]"
   ]
  },
  {
   "cell_type": "code",
   "execution_count": null,
   "id": "a53b86c5-ce1f-4fb3-af80-3f141ead1af9",
   "metadata": {},
   "outputs": [],
   "source": []
  }
 ],
 "metadata": {
  "kernelspec": {
   "display_name": "Python 3 (ipykernel)",
   "language": "python",
   "name": "python3"
  },
  "language_info": {
   "codemirror_mode": {
    "name": "ipython",
    "version": 3
   },
   "file_extension": ".py",
   "mimetype": "text/x-python",
   "name": "python",
   "nbconvert_exporter": "python",
   "pygments_lexer": "ipython3",
   "version": "3.12.2"
  }
 },
 "nbformat": 4,
 "nbformat_minor": 5
}
